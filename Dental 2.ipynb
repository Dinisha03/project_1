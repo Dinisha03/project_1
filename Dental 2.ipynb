{
 "cells": [
  {
   "cell_type": "markdown",
   "id": "b3c3751e-3345-461f-8a2e-36b99d5b64ef",
   "metadata": {},
   "source": [
    "# AI Assistant Agent for Booking Appointments on Google Calendar for a Dental Clinic\n"
   ]
  },
  {
   "cell_type": "markdown",
   "id": "c979c78d-b53c-413f-baff-6f7363489141",
   "metadata": {},
   "source": [
    "# 1. Set Up Google Calendar API Integration\n",
    "Steps:\n",
    "\n",
    "1-Create a Google Cloud Project and Enable API:\n",
    "\n",
    "*Go to the Google Cloud Console.\n",
    "*Create a new project or use an existing one.\n",
    "*Navigate to the API & Services dashboard.\n",
    "*Click + ENABLE APIS AND SERVICES.\n",
    "*Search for \"Google Calendar API\" and enable it.\n",
    "\n",
    "2-Set Up OAuth 2.0 Credentials:\n",
    "\n",
    "*Go to Credentials in the API & Services section.\n",
    "*Click Create Credentials and select OAuth Client ID.\n",
    "*Configure the consent screen if prompted.\n",
    "*Choose Desktop App as the application type.\n",
    "*Download the credentials.json file.\n",
    "\n",
    "3- Write Python Script for API Authentication and Interaction:\n",
    "   Install the required libraries:"
   ]
  },
  {
   "cell_type": "code",
   "execution_count": 5,
   "id": "f554b98c-d5da-4245-86c5-85a7d6024a65",
   "metadata": {},
   "outputs": [
    {
     "name": "stdout",
     "output_type": "stream",
     "text": [
      "Requirement already satisfied: google-api-python-client in c:\\users\\hp\\anaconda3\\lib\\site-packages (2.139.0)Note: you may need to restart the kernel to use updated packages.\n",
      "\n",
      "Requirement already satisfied: google-auth-httplib2 in c:\\users\\hp\\anaconda3\\lib\\site-packages (0.2.0)\n",
      "Requirement already satisfied: google-auth-oauthlib in c:\\users\\hp\\anaconda3\\lib\\site-packages (1.2.1)\n",
      "Requirement already satisfied: httplib2<1.dev0,>=0.19.0 in c:\\users\\hp\\anaconda3\\lib\\site-packages (from google-api-python-client) (0.22.0)\n",
      "Requirement already satisfied: google-auth!=2.24.0,!=2.25.0,<3.0.0.dev0,>=1.32.0 in c:\\users\\hp\\anaconda3\\lib\\site-packages (from google-api-python-client) (2.32.0)\n",
      "Requirement already satisfied: google-api-core!=2.0.*,!=2.1.*,!=2.2.*,!=2.3.0,<3.0.0.dev0,>=1.31.5 in c:\\users\\hp\\anaconda3\\lib\\site-packages (from google-api-python-client) (2.19.1)\n",
      "Requirement already satisfied: uritemplate<5,>=3.0.1 in c:\\users\\hp\\anaconda3\\lib\\site-packages (from google-api-python-client) (4.1.1)\n",
      "Requirement already satisfied: requests-oauthlib>=0.7.0 in c:\\users\\hp\\anaconda3\\lib\\site-packages (from google-auth-oauthlib) (2.0.0)\n",
      "Requirement already satisfied: googleapis-common-protos<2.0.dev0,>=1.56.2 in c:\\users\\hp\\anaconda3\\lib\\site-packages (from google-api-core!=2.0.*,!=2.1.*,!=2.2.*,!=2.3.0,<3.0.0.dev0,>=1.31.5->google-api-python-client) (1.63.2)\n",
      "Requirement already satisfied: protobuf!=3.20.0,!=3.20.1,!=4.21.0,!=4.21.1,!=4.21.2,!=4.21.3,!=4.21.4,!=4.21.5,<6.0.0.dev0,>=3.19.5 in c:\\users\\hp\\anaconda3\\lib\\site-packages (from google-api-core!=2.0.*,!=2.1.*,!=2.2.*,!=2.3.0,<3.0.0.dev0,>=1.31.5->google-api-python-client) (3.20.3)\n",
      "Requirement already satisfied: proto-plus<2.0.0dev,>=1.22.3 in c:\\users\\hp\\anaconda3\\lib\\site-packages (from google-api-core!=2.0.*,!=2.1.*,!=2.2.*,!=2.3.0,<3.0.0.dev0,>=1.31.5->google-api-python-client) (1.24.0)\n",
      "Requirement already satisfied: requests<3.0.0.dev0,>=2.18.0 in c:\\users\\hp\\anaconda3\\lib\\site-packages (from google-api-core!=2.0.*,!=2.1.*,!=2.2.*,!=2.3.0,<3.0.0.dev0,>=1.31.5->google-api-python-client) (2.32.2)\n",
      "Requirement already satisfied: cachetools<6.0,>=2.0.0 in c:\\users\\hp\\anaconda3\\lib\\site-packages (from google-auth!=2.24.0,!=2.25.0,<3.0.0.dev0,>=1.32.0->google-api-python-client) (5.3.3)\n",
      "Requirement already satisfied: pyasn1-modules>=0.2.1 in c:\\users\\hp\\anaconda3\\lib\\site-packages (from google-auth!=2.24.0,!=2.25.0,<3.0.0.dev0,>=1.32.0->google-api-python-client) (0.2.8)\n",
      "Requirement already satisfied: rsa<5,>=3.1.4 in c:\\users\\hp\\anaconda3\\lib\\site-packages (from google-auth!=2.24.0,!=2.25.0,<3.0.0.dev0,>=1.32.0->google-api-python-client) (4.9)\n",
      "Requirement already satisfied: pyparsing!=3.0.0,!=3.0.1,!=3.0.2,!=3.0.3,<4,>=2.4.2 in c:\\users\\hp\\anaconda3\\lib\\site-packages (from httplib2<1.dev0,>=0.19.0->google-api-python-client) (3.0.9)\n",
      "Requirement already satisfied: oauthlib>=3.0.0 in c:\\users\\hp\\anaconda3\\lib\\site-packages (from requests-oauthlib>=0.7.0->google-auth-oauthlib) (3.2.2)\n",
      "Requirement already satisfied: pyasn1<0.5.0,>=0.4.6 in c:\\users\\hp\\anaconda3\\lib\\site-packages (from pyasn1-modules>=0.2.1->google-auth!=2.24.0,!=2.25.0,<3.0.0.dev0,>=1.32.0->google-api-python-client) (0.4.8)\n",
      "Requirement already satisfied: charset-normalizer<4,>=2 in c:\\users\\hp\\anaconda3\\lib\\site-packages (from requests<3.0.0.dev0,>=2.18.0->google-api-core!=2.0.*,!=2.1.*,!=2.2.*,!=2.3.0,<3.0.0.dev0,>=1.31.5->google-api-python-client) (2.0.4)\n",
      "Requirement already satisfied: idna<4,>=2.5 in c:\\users\\hp\\anaconda3\\lib\\site-packages (from requests<3.0.0.dev0,>=2.18.0->google-api-core!=2.0.*,!=2.1.*,!=2.2.*,!=2.3.0,<3.0.0.dev0,>=1.31.5->google-api-python-client) (3.7)\n",
      "Requirement already satisfied: urllib3<3,>=1.21.1 in c:\\users\\hp\\anaconda3\\lib\\site-packages (from requests<3.0.0.dev0,>=2.18.0->google-api-core!=2.0.*,!=2.1.*,!=2.2.*,!=2.3.0,<3.0.0.dev0,>=1.31.5->google-api-python-client) (2.2.2)\n",
      "Requirement already satisfied: certifi>=2017.4.17 in c:\\users\\hp\\anaconda3\\lib\\site-packages (from requests<3.0.0.dev0,>=2.18.0->google-api-core!=2.0.*,!=2.1.*,!=2.2.*,!=2.3.0,<3.0.0.dev0,>=1.31.5->google-api-python-client) (2024.7.4)\n"
     ]
    }
   ],
   "source": [
    "pip install --upgrade google-api-python-client google-auth-httplib2 google-auth-oauthlib\n"
   ]
  },
  {
   "cell_type": "code",
   "execution_count": 7,
   "id": "93ceaa8a-376f-4656-be24-cd1edc27f968",
   "metadata": {},
   "outputs": [],
   "source": [
    "# Use the following Python script to authenticate and interact with the Google Calendar API:"
   ]
  },
  {
   "cell_type": "code",
   "execution_count": null,
   "id": "2827a210-3517-4305-a25d-8545244b619e",
   "metadata": {},
   "outputs": [
    {
     "name": "stdout",
     "output_type": "stream",
     "text": [
      "Please visit this URL to authorize this application: https://accounts.google.com/o/oauth2/auth?response_type=code&client_id=994216741718-347abfbojmfiie0ektdmde8jp6ej7uvq.apps.googleusercontent.com&redirect_uri=http%3A%2F%2Flocalhost%3A65362%2F&scope=https%3A%2F%2Fwww.googleapis.com%2Fauth%2Fcalendar&state=yN4XX4wrrEiyFOJz0wIX0iouj63ufS&access_type=offline\n"
     ]
    }
   ],
   "source": [
    "from __future__ import print_function\n",
    "import datetime\n",
    "import os.path\n",
    "from google.auth.transport.requests import Request\n",
    "from google.oauth2.credentials import Credentials\n",
    "from google_auth_oauthlib.flow import InstalledAppFlow\n",
    "from google.auth.transport.requests import Request\n",
    "from googleapiclient.discovery import build\n",
    "import pickle\n",
    "\n",
    "SCOPES = ['https://www.googleapis.com/auth/calendar']\n",
    "\n",
    "def authenticate_google_calendar():\n",
    "    creds = None\n",
    "    if os.path.exists('token.pickle'):\n",
    "        with open('token.pickle', 'rb') as token:\n",
    "            creds = pickle.load(token)\n",
    "    if not creds or not creds.valid:\n",
    "        if creds and creds.expired and creds.refresh_token:\n",
    "            creds.refresh(Request())\n",
    "        else:\n",
    "            flow = InstalledAppFlow.from_client_secrets_file(\n",
    "                'credentials.json', SCOPES)\n",
    "            creds = flow.run_local_server(port=0)\n",
    "        with open('token.pickle', 'wb') as token:\n",
    "            pickle.dump(creds, token)\n",
    "    service = build('calendar', 'v3', credentials=creds)\n",
    "    return service\n",
    "\n",
    "def create_event(service, summary, start_time, end_time):\n",
    "    event = {\n",
    "        'summary': summary,\n",
    "        'start': {\n",
    "            'dateTime': start_time,\n",
    "            'timeZone': 'America/New_York',\n",
    "        },\n",
    "        'end': {\n",
    "            'dateTime': end_time,\n",
    "            'timeZone': 'America/New_York',\n",
    "        },\n",
    "    }\n",
    "    event = service.events().insert(calendarId='primary', body=event).execute()\n",
    "    print(f\"Event created: {event.get('htmlLink')}\")\n",
    "\n",
    "if __name__ == '__main__':\n",
    "    service = authenticate_google_calendar()\n",
    "    create_event(service, 'Dental Appointment', '2024-08-10T10:00:00', '2024-08-10T11:00:00')\n"
   ]
  },
  {
   "cell_type": "markdown",
   "id": "e36b8620-a79d-4c73-b70b-f3bcbcfb03d4",
   "metadata": {},
   "source": [
    "# Deliverables:\n",
    "Python script for Google Calendar API authentication and appointment booking."
   ]
  },
  {
   "cell_type": "markdown",
   "id": "41fa5471-58fc-4730-9cad-431b8cef3dab",
   "metadata": {},
   "source": [
    "# 2. Build a Conversational Agent Using LangChain\n",
    "Steps:\n",
    "\n",
    "1-Set Up LangChain:\n",
    "\n",
    "Install LangChain:"
   ]
  },
  {
   "cell_type": "code",
   "execution_count": null,
   "id": "8e759740-8447-425f-8c1f-1b78718393c3",
   "metadata": {},
   "outputs": [],
   "source": [
    "pip install langchain"
   ]
  },
  {
   "cell_type": "markdown",
   "id": "290fa923-be29-45d6-b7ad-dcac402a6a89",
   "metadata": {},
   "source": [
    "2-Define the Conversation Flow:\n",
    "\n",
    "Use LangChain to create a conversational agent. Below is a simplified example to handle basic intents:"
   ]
  },
  {
   "cell_type": "code",
   "execution_count": null,
   "id": "e1775ef6-cd8d-4c9b-88cd-0d3fc74e4afe",
   "metadata": {},
   "outputs": [],
   "source": [
    "from langchain.chains import ConversationChain\n",
    "from langchain.prompts import PromptTemplate\n",
    "from langchain.llms import OpenAI\n",
    "from langchain.memory import SimpleMemory\n",
    "\n",
    "# Define the prompt\n",
    "prompt_template = PromptTemplate(\n",
    "    input_variables=[\"user_input\"],\n",
    "    template=\"You are a dental clinic assistant. Your job is to help users book, reschedule, or cancel appointments. {user_input}\"\n",
    ")\n",
    "\n",
    "# Initialize the model\n",
    "model = OpenAI(model=\"text-davinci-003\")\n",
    "\n",
    "# Initialize the conversation chain\n",
    "chain = ConversationChain(\n",
    "    llm=model,\n",
    "    prompt=prompt_template,\n",
    "    memory=SimpleMemory()\n",
    ")\n",
    "\n",
    "# Example function to handle a user query\n",
    "def handle_user_input(user_input):\n",
    "    response = chain.run(user_input=user_input)\n",
    "    return response\n"
   ]
  },
  {
   "cell_type": "markdown",
   "id": "f2855c17-75e9-41b9-a5f5-598bb8722beb",
   "metadata": {},
   "source": [
    "# Deliverables:\n",
    "\n",
    "LangChain-based conversational agent script."
   ]
  },
  {
   "cell_type": "markdown",
   "id": "1a0ea4dd-9bd4-4680-b817-a003458e89f6",
   "metadata": {},
   "source": [
    "# 3. Implement Conversation Flow and Data Handling\n",
    "\n",
    "**Steps:**\r\n",
    "\r\n",
    "1. Define the conversation flow for booking, rescheduling, and canceling appointments.\r\n",
    "2. Implement data handling to store and manage appointment details.\r\n",
    "3. Ensure the agent can handle different scenarios like unavailability of time slots and patient preferen\n",
    "   ces.\n",
    "Steps:\n",
    "\n",
    "1-Define the Conversation Flow:\n",
    "  Implement a function to handle the conversation and integrate it with the Google Calendar API functions. For example:"
   ]
  },
  {
   "cell_type": "markdown",
   "id": "3623286b-b365-4c43-b410-65cb354cc879",
   "metadata": {},
   "source": [
    "# 1. Define the Conversation Flow for Booking, Rescheduling, and Canceling Appointments\n",
    "Here's a simple conversation flow for each scenario:\n",
    "\n",
    "Booking Appointment\n",
    "\n",
    "Ask for the patient's name and preferred date.\n",
    "Ask for the preferred time.\n",
    "Check availability and confirm the appointment.\n",
    "\n",
    "Rescheduling Appointment\n",
    "\n",
    "Ask for the existing appointment details.\n",
    "Ask for the new preferred date and time.\n",
    "Check availability and confirm the new appointment.\n",
    "\n",
    "Canceling Appointment\n",
    "\n",
    "Ask for the appointment details to be canceled.\n",
    "Confirm the cancellation."
   ]
  },
  {
   "cell_type": "code",
   "execution_count": null,
   "id": "33d5b4bd-5b97-4e43-a2d0-05380bde8b58",
   "metadata": {},
   "outputs": [],
   "source": [
    "from datetime import datetime\n",
    "\n",
    "def handle_booking_request(user_input):\n",
    "    # Extract details from user_input (e.g., date, time)\n",
    "    # For simplicity, assuming fixed date and time\n",
    "    appointment_date = '2024-08-10'\n",
    "    appointment_time = '10:00:00'\n",
    "    start_time = f\"{appointment_date}T{appointment_time}\"\n",
    "    end_time = f\"{appointment_date}T{appointment_time[:-2]}1:00:00\"\n",
    "    \n",
    "    service = authenticate_google_calendar()\n",
    "    create_event(service, 'Dental Appointment', start_time, end_time)\n",
    "    return \"Your appointment has been booked successfully!\"\n",
    "\n",
    "# Example conversation handling\n",
    "user_input = \"I would like to book an appointment on August 10th at 10 AM.\"\n",
    "response = handle_booking_request(user_input)\n",
    "print(response)\n"
   ]
  },
  {
   "cell_type": "markdown",
   "id": "46af2ebe-f3b2-4f7a-9625-f56750812680",
   "metadata": {},
   "source": [
    " 2- Handle Different Scenarios:\n",
    "* Unavailability of Time Slots: Check available slots before booking.\n",
    "* Patient Preferences: Adapt to different patient preferences (e.g., time, date)."
   ]
  },
  {
   "cell_type": "markdown",
   "id": "2343570a-74c3-4e8e-aca7-2f3e5733c463",
   "metadata": {},
   "source": [
    "# 2. Implement Data Handling to Store and Manage Appointment Details\n",
    "We can use Python's built-in data structures to store appointment details. For simplicity, we'll use a dictionary to manage appointments."
   ]
  },
  {
   "cell_type": "code",
   "execution_count": null,
   "id": "f2f931b7-4fed-49c9-a166-e79757abc0d7",
   "metadata": {},
   "outputs": [],
   "source": []
  },
  {
   "cell_type": "markdown",
   "id": "698c5085-b10e-41c5-8817-60cd71234bb1",
   "metadata": {},
   "source": [
    "# Deliverables:\n",
    "# Python Script Implementation\n",
    "Here's a Python script that handles booking, rescheduling, and canceling appointments:\n",
    "Python script with implemented conversation flow and data handling."
   ]
  },
  {
   "cell_type": "code",
   "execution_count": null,
   "id": "a247d61c-6a77-4e47-ad02-206ccf8dbaa0",
   "metadata": {},
   "outputs": [],
   "source": [
    "from datetime import datetime, timedelta\n",
    "\n",
    "# Sample appointment data structure\n",
    "appointments = {}\n",
    "\n",
    "def is_date_valid(date_str):\n",
    "    try:\n",
    "        datetime.strptime(date_str, \"%Y-%m-%d\")\n",
    "        return True\n",
    "    except ValueError:\n",
    "        return False\n",
    "\n",
    "def is_time_valid(time_str):\n",
    "    try:\n",
    "        datetime.strptime(time_str, \"%H:%M\")\n",
    "        return True\n",
    "    except ValueError:\n",
    "        return False\n",
    "\n",
    "def check_availability(date_str, time_str):\n",
    "    appointment_datetime = datetime.strptime(f\"{date_str} {time_str}\", \"%Y-%m-%d %H:%M\")\n",
    "    return appointment_datetime not in appointments\n",
    "\n",
    "def book_appointment(name, date_str, time_str):\n",
    "    if not is_date_valid(date_str):\n",
    "        return \"Invalid date format. Please use YYYY-MM-DD.\"\n",
    "    if not is_time_valid(time_str):\n",
    "        return \"Invalid time format. Please use HH:MM.\"\n",
    "    if check_availability(date_str, time_str):\n",
    "        appointment_datetime = datetime.strptime(f\"{date_str} {time_str}\", \"%Y-%m-%d %H:%M\")\n",
    "        appointments[appointment_datetime] = name\n",
    "        return f\"Appointment booked for {name} on {date_str} at {time_str}.\"\n",
    "    else:\n",
    "        return \"Sorry, this time slot is not available.\"\n",
    "\n",
    "def reschedule_appointment(name, old_date_str, old_time_str, new_date_str, new_time_str):\n",
    "    old_appointment_datetime = datetime.strptime(f\"{old_date_str} {old_time_str}\", \"%Y-%m-%d %H:%M\")\n",
    "    if old_appointment_datetime in appointments and appointments[old_appointment_datetime] == name:\n",
    "        if check_availability(new_date_str, new_time_str):\n",
    "            del appointments[old_appointment_datetime]\n",
    "            new_appointment_datetime = datetime.strptime(f\"{new_date_str} {new_time_str}\", \"%Y-%m-%d %H:%M\")\n",
    "            appointments[new_appointment_datetime] = name\n",
    "            return f\"Appointment rescheduled for {name} to {new_date_str} at {new_time_str}.\"\n",
    "        else:\n",
    "            return \"Sorry, this new time slot is not available.\"\n",
    "    else:\n",
    "        return \"No appointment found to reschedule.\"\n",
    "\n",
    "def cancel_appointment(name, date_str, time_str):\n",
    "    appointment_datetime = datetime.strptime(f\"{date_str} {time_str}\", \"%Y-%m-%d %H:%M\")\n",
    "    if appointment_datetime in appointments and appointments[appointment_datetime] == name:\n",
    "        del appointments[appointment_datetime]\n",
    "        return f\"Appointment canceled for {name} on {date_str} at {time_str}.\"\n",
    "    else:\n",
    "        return \"No appointment found to cancel.\"\n",
    "\n",
    "def handle_request(request_type, *args):\n",
    "    if request_type == \"book\":\n",
    "        return book_appointment(*args)\n",
    "    elif request_type == \"reschedule\":\n",
    "        return reschedule_appointment(*args)\n",
    "    elif request_type == \"cancel\":\n",
    "        return cancel_appointment(*args)\n",
    "    else:\n",
    "        return \"Invalid request type.\"\n",
    "\n",
    "# Example usage\n",
    "print(handle_request(\"book\", \"John Doe\", \"2024-08-10\", \"10:00\"))\n",
    "print(handle_request(\"reschedule\", \"John Doe\", \"2024-08-10\", \"10:00\", \"2024-08-10\", \"11:00\"))\n",
    "print(handle_request(\"cancel\", \"John Doe\", \"2024-08-10\", \"11:00\"))\n"
   ]
  },
  {
   "cell_type": "markdown",
   "id": "9446688f-7df7-4141-af0e-027fa6014d19",
   "metadata": {},
   "source": [
    "# 4. Test the Agent with Sample Conversations\n",
    "Steps:\n",
    "\n",
    "1-Test Various Scenarios:\n",
    " *Test successful bookings, rescheduling, and cancellations.\n",
    " *Check handling of unavailable slots and user preferences.\n",
    "2-Document Issues and Improvements:\n",
    "  *Track any issues faced during testing and document improvements made."
   ]
  },
  {
   "cell_type": "markdown",
   "id": "e27b6faf-c0dd-4acd-b3db-561f62933202",
   "metadata": {},
   "source": [
    "# We can test the above script by running various scenarios: "
   ]
  },
  {
   "cell_type": "code",
   "execution_count": null,
   "id": "765ccde7-9064-460c-8cfa-2e04a1d788aa",
   "metadata": {},
   "outputs": [],
   "source": [
    "# Booking a New Appointment:\n",
    "print(handle_request(\"book\", \"Alice Smith\", \"2024-08-10\", \"10:00\"))"
   ]
  },
  {
   "cell_type": "code",
   "execution_count": null,
   "id": "301b971f-6841-41e6-99de-f5cafd2f2102",
   "metadata": {},
   "outputs": [],
   "source": [
    "# Rescheduling an Existing Appointment:\n",
    "print(handle_request(\"reschedule\", \"Alice Smith\", \"2024-08-10\", \"10:00\", \"2024-08-11\", \"09:00\"))"
   ]
  },
  {
   "cell_type": "code",
   "execution_count": null,
   "id": "510dfea7-625d-4d89-b859-5d533743f782",
   "metadata": {},
   "outputs": [],
   "source": [
    "# Canceling an Appointment:\n",
    "print(handle_request(\"cancel\", \"Alice Smith\", \"2024-08-11\", \"09:00\"))"
   ]
  },
  {
   "cell_type": "markdown",
   "id": "8a977214-6065-48f7-b5bd-dda99d049fcb",
   "metadata": {},
   "source": [
    "# Deliverables\n",
    "Python Script: The provided script handles booking, rescheduling, and canceling appointments with basic validation and availability checking.\n",
    "Test Results and Documentation: You should document any issues encountered during testing, such as invalid input handling or unavailability of time slots. Note any necessary improvements based on test results."
   ]
  },
  {
   "cell_type": "code",
   "execution_count": null,
   "id": "8d8fabe3-e3be-4da9-a93f-a93b7ff4129e",
   "metadata": {},
   "outputs": [],
   "source": []
  }
 ],
 "metadata": {
  "kernelspec": {
   "display_name": "Python 3 (ipykernel)",
   "language": "python",
   "name": "python3"
  },
  "language_info": {
   "codemirror_mode": {
    "name": "ipython",
    "version": 3
   },
   "file_extension": ".py",
   "mimetype": "text/x-python",
   "name": "python",
   "nbconvert_exporter": "python",
   "pygments_lexer": "ipython3",
   "version": "3.12.4"
  }
 },
 "nbformat": 4,
 "nbformat_minor": 5
}
